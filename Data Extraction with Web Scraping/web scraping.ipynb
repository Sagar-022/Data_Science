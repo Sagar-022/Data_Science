{
 "cells": [
  {
   "cell_type": "code",
   "execution_count": 13,
   "metadata": {},
   "outputs": [],
   "source": [
    "from bs4 import BeautifulSoup\n",
    "import requests"
   ]
  },
  {
   "cell_type": "code",
   "execution_count": 14,
   "metadata": {},
   "outputs": [
    {
     "name": "stdout",
     "output_type": "stream",
     "text": [
      "Put some skills tha you are unfamiliar with\n",
      ">django\n",
      "Filtering out unfamiliar skills\n"
     ]
    }
   ],
   "source": [
    "print(\"Put some skills tha you are unfamiliar with\")\n",
    "unfamiliar_skill = input('>')\n",
    "print(\"Filtering out unfamiliar skills\")"
   ]
  },
  {
   "cell_type": "code",
   "execution_count": 45,
   "metadata": {},
   "outputs": [],
   "source": [
    "html_text = requests.get('https://www.timesjobs.com/candidate/job-search.html?searchType=personalizedSearch&from=submit&txtKeywords=python&txtLocation=').text\n",
    "soup = BeautifulSoup(html_text, 'lxml')\n",
    "jobs = soup.find_all('li', class_ = 'clearfix job-bx wht-shd-bx')\n",
    "with open(f'post.txt','a') as f:\n",
    "    f.write(f\"job_no , company_name , skills\\n\")\n",
    "for index,job in enumerate(jobs):\n",
    "    published_date = job.find('span', class_ = 'sim-posted').span.text\n",
    "    if 'few' in published_date:\n",
    "        company_name = job.find('h3', class_ = 'joblist-comp-name').text.replace(' ','')\n",
    "        skills = job.find('span', class_ = 'srp-skills').text.replace(' ','')\n",
    "        more_info = job.header.h2.a['href']\n",
    "        if unfamiliar_skill not in skills:\n",
    "            with open(f'post.txt','a') as f:\n",
    "                f.write(f\"{index+1} , {company_name.strip()} , {skills.strip()}\\n\")\n",
    "                #f.write(f\"Comapny Name: {company_name.strip()}\\n\")\n",
    "                #f.write(f\"Required Skills: {skills.strip()}\\n\")\n",
    "                #f.write(f\"More Info: {more_info}\\n\\n\")\n"
   ]
  },
  {
   "cell_type": "code",
   "execution_count": 46,
   "metadata": {},
   "outputs": [
    {
     "name": "stderr",
     "output_type": "stream",
     "text": [
      "C:\\ProgramData\\Anaconda3\\lib\\site-packages\\ipykernel_launcher.py:2: ParserWarning: Falling back to the 'python' engine because the 'c' engine does not support regex separators (separators > 1 char and different from '\\s+' are interpreted as regex); you can avoid this warning by specifying engine='python'.\n",
      "  \n"
     ]
    }
   ],
   "source": [
    "import pandas as pd\n",
    "df = pd.read_table('post.txt', sep=' , ')\n",
    "df.to_excel('output.xlsx', 'Sheet1', index=False)"
   ]
  },
  {
   "cell_type": "code",
   "execution_count": 47,
   "metadata": {},
   "outputs": [],
   "source": [
    "requests?"
   ]
  },
  {
   "cell_type": "code",
   "execution_count": null,
   "metadata": {},
   "outputs": [],
   "source": []
  }
 ],
 "metadata": {
  "kernelspec": {
   "display_name": "Python 3",
   "language": "python",
   "name": "python3"
  },
  "language_info": {
   "codemirror_mode": {
    "name": "ipython",
    "version": 3
   },
   "file_extension": ".py",
   "mimetype": "text/x-python",
   "name": "python",
   "nbconvert_exporter": "python",
   "pygments_lexer": "ipython3",
   "version": "3.7.1"
  }
 },
 "nbformat": 4,
 "nbformat_minor": 2
}
